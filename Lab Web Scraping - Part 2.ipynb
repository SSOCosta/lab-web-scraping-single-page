{
 "cells": [
  {
   "cell_type": "markdown",
   "id": "ac3af530",
   "metadata": {},
   "source": [
    "# Lab | Web Scraping Multiple Pages\n"
   ]
  },
  {
   "cell_type": "markdown",
   "id": "4addfb01",
   "metadata": {},
   "source": [
    "As you've seen, scraping the internet is a skill that can get you all sorts of information. Here are some little challenges that you can try to gain more experience in the field. Open a new Jupyter notebook and scrape at least 3 of these sites.\n",
    "\n",
    "- Retrieve an arbitrary Wikipedia page of \"Python\" and create a list of links on that page: url ='https://en.wikipedia.org/wiki/Python'\n",
    "- Find the number of titles that have changed in the United States Code since its last release point: url = 'http://uscode.house.gov/download/download.shtml'\n",
    "- Create a Python list with the top ten FBI's Most Wanted names: url = 'https://www.fbi.gov/wanted/topten'\n",
    "- Display the 20 latest earthquakes info (date, time, latitude, longitude and region name) by the EMSC as a pandas dataframe: url = 'https://www.emsc-csem.org/Earthquake/'\n",
    "- List all language names and number of related articles in the order they appear in wikipedia.org: url = 'https://www.wikipedia.org/'\n",
    "- A list with the different kind of datasets available in data.gov.uk: url = 'https://data.gov.uk/'\n",
    "- Display the top 10 languages by number of native speakers stored in a pandas dataframe: url = 'https://en.wikipedia.org/wiki/List_of_languages_by_number_of_native_speakers'"
   ]
  },
  {
   "cell_type": "code",
   "execution_count": 1,
   "id": "8f30dd9c",
   "metadata": {},
   "outputs": [],
   "source": [
    "from bs4 import BeautifulSoup\n",
    "import requests\n",
    "import pandas as pd"
   ]
  },
  {
   "cell_type": "markdown",
   "id": "dfddd3a8",
   "metadata": {},
   "source": [
    "### Retrieve an arbitrary Wikipedia page of \"Python\" and create a list of links on that page: url ='https://en.wikipedia.org/wiki/Python'\n"
   ]
  },
  {
   "cell_type": "code",
   "execution_count": 2,
   "id": "e0a12c7c",
   "metadata": {},
   "outputs": [],
   "source": [
    "url = 'https://en.wikipedia.org/wiki/Python'"
   ]
  },
  {
   "cell_type": "code",
   "execution_count": 3,
   "id": "0a312396",
   "metadata": {},
   "outputs": [
    {
     "data": {
      "text/plain": [
       "200"
      ]
     },
     "execution_count": 3,
     "metadata": {},
     "output_type": "execute_result"
    }
   ],
   "source": [
    "response = requests.get(url)\n",
    "response.status_code # 200 status code means OK!"
   ]
  },
  {
   "cell_type": "code",
   "execution_count": 4,
   "id": "a0029fef",
   "metadata": {},
   "outputs": [],
   "source": [
    "soup = BeautifulSoup(response.text, 'html.parser')"
   ]
  },
  {
   "cell_type": "code",
   "execution_count": 5,
   "id": "45e8e7f1",
   "metadata": {},
   "outputs": [],
   "source": [
    "# Find the element with id \"mw-content-text\"\n",
    "content_text = soup.find('div', {'id': 'mw-content-text'})\n",
    "links = content_text.find_all('a', href=True)\n"
   ]
  },
  {
   "cell_type": "code",
   "execution_count": 6,
   "id": "ee0b2a5f",
   "metadata": {},
   "outputs": [
    {
     "name": "stdout",
     "output_type": "stream",
     "text": [
      "https://en.wiktionary.org/wiki/Python\n",
      "https://en.wiktionary.org/wiki/python\n",
      "/w/index.php?title=Python&action=edit&section=1\n",
      "/wiki/Pythonidae\n",
      "/wiki/Python_(genus)\n",
      "/wiki/Python_(mythology)\n",
      "/w/index.php?title=Python&action=edit&section=2\n",
      "/wiki/Python_(programming_language)\n",
      "/wiki/CMU_Common_Lisp\n",
      "/wiki/PERQ#PERQ_3\n",
      "/w/index.php?title=Python&action=edit&section=3\n",
      "/wiki/Python_of_Aenus\n",
      "/wiki/Python_(painter)\n",
      "/wiki/Python_of_Byzantium\n",
      "/wiki/Python_of_Catana\n",
      "/wiki/Python_Anghelo\n",
      "/w/index.php?title=Python&action=edit&section=4\n",
      "/wiki/Python_(Efteling)\n",
      "/wiki/Python_(Busch_Gardens_Tampa_Bay)\n",
      "/wiki/Python_(Coney_Island,_Cincinnati,_Ohio)\n",
      "/w/index.php?title=Python&action=edit&section=5\n",
      "/wiki/Python_(automobile_maker)\n",
      "/wiki/Python_(Ford_prototype)\n",
      "/w/index.php?title=Python&action=edit&section=6\n",
      "/wiki/Python_(missile)\n",
      "/wiki/Python_(nuclear_primary)\n",
      "/wiki/Colt_Python\n",
      "/w/index.php?title=Python&action=edit&section=7\n",
      "/wiki/Python_(codename)\n",
      "/wiki/Python_(film)\n",
      "/wiki/Monty_Python\n",
      "/wiki/Python_(Monty)_Pictures\n",
      "/wiki/Timon_of_Phlius\n",
      "/w/index.php?title=Python&action=edit&section=8\n",
      "/wiki/Pyton\n",
      "/wiki/Pithon\n",
      "/wiki/File:Disambig_gray.svg\n",
      "/wiki/Help:Disambiguation\n",
      "https://en.wikipedia.org/w/index.php?title=Special:WhatLinksHere/Python&namespace=0\n",
      "https://en.wikipedia.org/w/index.php?title=Python&oldid=1186029993\n"
     ]
    }
   ],
   "source": [
    "# Extract and print the href attribute for each link\n",
    "for link in links:\n",
    "    href = link.get('href')\n",
    "    print(href)"
   ]
  },
  {
   "cell_type": "markdown",
   "id": "8f91b9ed",
   "metadata": {},
   "source": [
    "### Find the number of titles that have changed in the United States Code since its last release point: url = 'http://uscode.house.gov/download/download.shtml'\n"
   ]
  },
  {
   "cell_type": "code",
   "execution_count": 7,
   "id": "07e82d3e",
   "metadata": {},
   "outputs": [],
   "source": [
    "url = 'https://uscode.house.gov/download/download.shtml'"
   ]
  },
  {
   "cell_type": "code",
   "execution_count": 8,
   "id": "698f1927",
   "metadata": {},
   "outputs": [
    {
     "data": {
      "text/plain": [
       "200"
      ]
     },
     "execution_count": 8,
     "metadata": {},
     "output_type": "execute_result"
    }
   ],
   "source": [
    "response = requests.get(url)\n",
    "response.status_code # 200 status code means OK!"
   ]
  },
  {
   "cell_type": "code",
   "execution_count": 9,
   "id": "03f4495f",
   "metadata": {},
   "outputs": [],
   "source": [
    "soup = BeautifulSoup(response.text, 'html.parser')"
   ]
  },
  {
   "cell_type": "code",
   "execution_count": 10,
   "id": "f3bcf8d1",
   "metadata": {},
   "outputs": [
    {
     "data": {
      "text/plain": [
       "[<div class=\"usctitlechanged\" id=\"us/usc/t38\">\n",
       " \n",
       "           Title 38 - Veterans' Benefits <span class=\"footnote\"><a class=\"fn\" href=\"#fn\">٭</a></span>\n",
       " </div>]"
      ]
     },
     "execution_count": 10,
     "metadata": {},
     "output_type": "execute_result"
    }
   ],
   "source": [
    "# Find elements with the class 'usctitlechanged'\n",
    "changed_elements = soup.select('.usctitlechanged')\n",
    "changed_elements"
   ]
  },
  {
   "cell_type": "code",
   "execution_count": 11,
   "id": "50cde07a",
   "metadata": {},
   "outputs": [
    {
     "name": "stdout",
     "output_type": "stream",
     "text": [
      "\n",
      "\n",
      "          Title 38 - Veterans' Benefits ٭\n",
      "\n"
     ]
    }
   ],
   "source": [
    "# Print the content of each matching element\n",
    "for element in changed_elements:\n",
    "    print(element.text)"
   ]
  },
  {
   "cell_type": "code",
   "execution_count": 12,
   "id": "7f04a50e",
   "metadata": {},
   "outputs": [
    {
     "name": "stdout",
     "output_type": "stream",
     "text": [
      "Total number of elements with class \"usctitlechanged\": 1\n"
     ]
    }
   ],
   "source": [
    "# Count the number of matching elements\n",
    "num_elements = len(changed_elements)\n",
    "print(f'Total number of elements with class \"usctitlechanged\": {num_elements}')"
   ]
  },
  {
   "cell_type": "markdown",
   "id": "ee6c4c27",
   "metadata": {},
   "source": [
    "### Display the top 10 languages by number of native speakers stored in a pandas dataframe: url = 'https://en.wikipedia.org/wiki/List_of_languages_by_number_of_native_speakers'"
   ]
  },
  {
   "cell_type": "code",
   "execution_count": 13,
   "id": "9b72f1df",
   "metadata": {},
   "outputs": [],
   "source": [
    "url = 'https://en.wikipedia.org/wiki/List_of_languages_by_number_of_native_speakers'"
   ]
  },
  {
   "cell_type": "code",
   "execution_count": 14,
   "id": "f144fef7",
   "metadata": {},
   "outputs": [
    {
     "data": {
      "text/plain": [
       "200"
      ]
     },
     "execution_count": 14,
     "metadata": {},
     "output_type": "execute_result"
    }
   ],
   "source": [
    "response = requests.get(url)\n",
    "response.status_code # 200 status code means OK!"
   ]
  },
  {
   "cell_type": "code",
   "execution_count": 15,
   "id": "1db0369b",
   "metadata": {},
   "outputs": [],
   "source": [
    "soup = BeautifulSoup(response.text, 'html.parser')"
   ]
  },
  {
   "cell_type": "code",
   "execution_count": 16,
   "id": "0ced6ac6",
   "metadata": {},
   "outputs": [],
   "source": [
    "# Find the table containing language data\n",
    "table = soup.find('table', {'class': 'wikitable'})\n",
    "# table"
   ]
  },
  {
   "cell_type": "code",
   "execution_count": 17,
   "id": "873d8bd8",
   "metadata": {},
   "outputs": [
    {
     "name": "stdout",
     "output_type": "stream",
     "text": [
      "           Language Native Speakers\n",
      "0  Mandarin Chinese             939\n",
      "1           Spanish             485\n",
      "2           English             380\n",
      "3             Hindi             345\n",
      "4        Portuguese             236\n",
      "5           Bengali             234\n",
      "6           Russian             147\n",
      "7          Japanese             123\n",
      "8       Yue Chinese            86.1\n",
      "9        Vietnamese            85.0\n"
     ]
    }
   ],
   "source": [
    "row_count = 0\n",
    "language = []\n",
    "numbers = []\n",
    "\n",
    "if response.status_code == 200:\n",
    "    soup = BeautifulSoup(response.text, 'html.parser')\n",
    "\n",
    "    table = soup.find('table', class_='wikitable')\n",
    "    \n",
    "    for row in table.find_all('tr')[1:]:\n",
    "        columns = row.find_all(['td','th'])\n",
    "        language.append(columns[0].text.strip())\n",
    "        numbers.append(columns[1].text.strip())\n",
    "        \n",
    "        row_count+=1\n",
    "        if row_count >= 10:\n",
    "            break\n",
    "    \n",
    "    languages = pd.DataFrame({'Language':language, 'Native Speakers':numbers})\n",
    "    print(languages)\n",
    "\n",
    "else:\n",
    "    print(f\"Failed to retrieve the page. Status code: {response.status_code}\")"
   ]
  },
  {
   "cell_type": "code",
   "execution_count": null,
   "id": "2bf318af",
   "metadata": {},
   "outputs": [],
   "source": []
  }
 ],
 "metadata": {
  "kernelspec": {
   "display_name": "Python 3 (ipykernel)",
   "language": "python",
   "name": "python3"
  },
  "language_info": {
   "codemirror_mode": {
    "name": "ipython",
    "version": 3
   },
   "file_extension": ".py",
   "mimetype": "text/x-python",
   "name": "python",
   "nbconvert_exporter": "python",
   "pygments_lexer": "ipython3",
   "version": "3.9.13"
  }
 },
 "nbformat": 4,
 "nbformat_minor": 5
}
